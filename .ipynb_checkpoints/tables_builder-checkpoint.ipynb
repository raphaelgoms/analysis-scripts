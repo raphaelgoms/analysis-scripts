{
 "cells": [
  {
   "cell_type": "code",
   "execution_count": 80,
   "id": "3ed677f5-16c2-4c3b-9983-d45b350ae96e",
   "metadata": {},
   "outputs": [],
   "source": [
    "import matplotlib.pyplot as plt\n",
    "import numpy as np\n",
    "import pandas as pd"
   ]
  },
  {
   "cell_type": "code",
   "execution_count": 81,
   "id": "a3089738-9620-4448-922e-29499df259f1",
   "metadata": {},
   "outputs": [],
   "source": [
    "BASE_PATH = \"~/Code/FIM-CGRASP/results/\""
   ]
  },
  {
   "cell_type": "code",
   "execution_count": 164,
   "id": "a5dffcb9-541c-44fa-baf0-34bdbf44c935",
   "metadata": {},
   "outputs": [],
   "source": [
    "def create_xtable(dimension, dm_lshade_config):\n",
    "    lshade_df = pd.read_csv(BASE_PATH + f\"/out(--lshade --sf ).csv\", sep=\";\")\n",
    "    lshade_df = lshade_df[lshade_df.Dim == dimension]\n",
    "    \n",
    "    dm_lshade_df = pd.read_csv(BASE_PATH + f\"uv={dimension}/out(--dmlshade {dm_lshade_config} ).csv\", sep=\";\")\n",
    "\n",
    "    with open(f\"tables/avg_costs_d{dimension}({dm_lshade_config}).csv\", 'w') as tf:\n",
    "        tf.write(\"f;LSHADE;DMLSHADE\\n\")\n",
    "        for f in range(30):\n",
    "            tf.write(f\"{f+1};{list(lshade_df.AvgFO)[f]};{list(dm_lshade_df.AvgFO)[f]}\\n\")\n",
    "\n",
    "def create_xtable_with_stddev(dimension, dm_lshade_config):\n",
    "    try:\n",
    "        lshade_df = pd.read_csv(BASE_PATH + f\"stats_test_data/out(--lshade --sf ).csv\", sep=\";\")\n",
    "        lshade_df = lshade_df[lshade_df.f.str.endswith(\"-\"+str(dimension))]\n",
    "    \n",
    "        dm_lshade_df = pd.read_csv(BASE_PATH + f\"stats_test_data/uv={dimension}/out(--dmlshade {dm_lshade_config} ).csv\", sep=\";\")\n",
    "    except FileNotFoundError:\n",
    "        print(f\"file not found for D={dimension}\")\n",
    "        return\n",
    "    \n",
    "    with open(f\"tables/avg_dev_costs_d{dimension}({dm_lshade_config}).csv\", 'w') as tf:\n",
    "        tf.write(\"f;LSHADE;DMLSHADE\\n\")\n",
    "        for f in range(30):\n",
    "            lshade_mean = np.mean(lshade_df.iloc[f][1:])\n",
    "            lshade_dev = np.std(lshade_df.iloc[f][1:])\n",
    "            \n",
    "            dmlshade_mean = np.mean(dm_lshade_df.iloc[f][1:]) \n",
    "            dmlshade_dev = np.std(dm_lshade_df.iloc[f][1:])\n",
    "            \n",
    "            tf.write(f\"{f+1};{lshade_mean:.2e} ({lshade_dev:.2e});{dmlshade_mean:.2e} ({dmlshade_dev:.2e})\\n\")"
   ]
  },
  {
   "cell_type": "code",
   "execution_count": 156,
   "id": "8fe4b297-6c32-4b0e-b1d7-146f705e2d79",
   "metadata": {},
   "outputs": [],
   "source": [
    "for D in [10, 30, 50, 100]:\n",
    "    create_xtable_with_stddev(D, \"--crossgen --insert --er 0.1 --cr 0.1296 --gs 70 --sf\")"
   ]
  },
  {
   "cell_type": "code",
   "execution_count": 157,
   "id": "03ec66e3-e043-4757-a530-de30a4140a3d",
   "metadata": {},
   "outputs": [],
   "source": [
    "for D in [10, 30, 50, 100]:\n",
    "    create_xtable_with_stddev(D, \"--crossgen --insert --er 0.1 --gs 150 --sf\")"
   ]
  },
  {
   "cell_type": "code",
   "execution_count": 165,
   "id": "485a1b1b-9b2d-432a-8f6c-235da5509f0c",
   "metadata": {},
   "outputs": [
    {
     "name": "stdout",
     "output_type": "stream",
     "text": [
      "file not found for D=100\n"
     ]
    }
   ],
   "source": [
    "for D in [10, 30, 50, 100]:\n",
    "    create_xtable_with_stddev(D, \"--crossgen --insert --er 0.1 --gs 150 --sf --no_archive\")"
   ]
  },
  {
   "cell_type": "code",
   "execution_count": null,
   "id": "59c8823e-b09c-4ff0-8f12-b89d5168c415",
   "metadata": {},
   "outputs": [],
   "source": []
  }
 ],
 "metadata": {
  "kernelspec": {
   "display_name": "Python 3 (ipykernel)",
   "language": "python",
   "name": "python3"
  },
  "language_info": {
   "codemirror_mode": {
    "name": "ipython",
    "version": 3
   },
   "file_extension": ".py",
   "mimetype": "text/x-python",
   "name": "python",
   "nbconvert_exporter": "python",
   "pygments_lexer": "ipython3",
   "version": "3.10.12"
  }
 },
 "nbformat": 4,
 "nbformat_minor": 5
}
