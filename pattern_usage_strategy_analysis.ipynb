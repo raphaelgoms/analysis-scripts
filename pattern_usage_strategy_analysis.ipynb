{
 "cells": [
  {
   "cell_type": "code",
   "execution_count": 263,
   "id": "873805d0-403b-4781-aa58-bb384d7d1d5f",
   "metadata": {},
   "outputs": [],
   "source": [
    "import pandas as pd\n",
    "import numpy as np\n",
    "import matplotlib.pyplot as plt"
   ]
  },
  {
   "cell_type": "code",
   "execution_count": 264,
   "id": "f92aca5d-7a91-4edf-ada4-313fa41d4b06",
   "metadata": {},
   "outputs": [],
   "source": [
    "BASE_PATH = \"~/Code/FP-MAX-LSHADE/results/generations/\""
   ]
  },
  {
   "cell_type": "code",
   "execution_count": 265,
   "id": "ba1c5f75-81cf-45fe-b89c-2a91132e89fe",
   "metadata": {},
   "outputs": [],
   "source": [
    "Seeds = { \n",
    "          10 : [512, 166, 538, 894, 449, 195, 88, 144, 903, 577, 830, 827, 537, 179, 660, 844, 999, 858, 744, 740, 221, 443, 219, 484, 5, 23, 465, 864, 245, 523],\n",
    "          30 : [449, 144, 830, 179, 999, 740, 219, 23, 245, 588, 746, 967, 275, 389, 561, 775, 250, 121, 152, 696, 691, 836, 51, 371, 881, 594, 362, 511, 416, 372],\n",
    "          50 : [903, 179, 744, 484, 245, 11, 450, 389, 167, 947, 152, 862, 283, 371, 431, 439, 416, 112, 613, 184, 46, 499, 890, 587, 217, 942, 808, 633, 174, 404],\n",
    "          100 : [744, 245, 450, 167, 152, 283, 431, 416, 613, 46, 890, 217, 808, 174, 727, 615, 347, 455, 423, 846, 629, 729, 48, 806, 401, 859, 3, 67, 351, 232]\n",
    "        }"
   ]
  },
  {
   "cell_type": "code",
   "execution_count": 273,
   "id": "4934a7fd-556f-464e-888f-a20ed20cee7b",
   "metadata": {},
   "outputs": [],
   "source": [
    "# Parameters:\n",
    "D = 100\n",
    "function = 2\n",
    "seed = Seeds[D][function-1]\n",
    "\n",
    "elite_rate = 0.1\n",
    "disc_step = 0.0098\n",
    "support = 95\n",
    "gen_step = 20\n",
    "sol_fill_strategy = \"rand\"\n",
    "\n",
    "config = f\"--fpmaxlshade --crossgen --insert --er {elite_rate} --gs {gen_step} --h {disc_step} --s {support} --sf  --analysis --{sol_fill_strategy} --halphpop \"\n",
    "filepath = BASE_PATH +  f\"FP-MAX-LSHADE/{config}/D{D}/cec-f{function}/s{seed}/dm-effect.csv\""
   ]
  },
  {
   "cell_type": "code",
   "execution_count": 274,
   "id": "a92aa25a-f4d5-4fc6-adb9-31dbd9dbf481",
   "metadata": {},
   "outputs": [
    {
     "data": {
      "text/html": [
       "<div>\n",
       "<style scoped>\n",
       "    .dataframe tbody tr th:only-of-type {\n",
       "        vertical-align: middle;\n",
       "    }\n",
       "\n",
       "    .dataframe tbody tr th {\n",
       "        vertical-align: top;\n",
       "    }\n",
       "\n",
       "    .dataframe thead th {\n",
       "        text-align: right;\n",
       "    }\n",
       "</style>\n",
       "<table border=\"1\" class=\"dataframe\">\n",
       "  <thead>\n",
       "    <tr style=\"text-align: right;\">\n",
       "      <th></th>\n",
       "      <th>G</th>\n",
       "      <th>PD</th>\n",
       "      <th>NP</th>\n",
       "      <th>APS</th>\n",
       "      <th>MSR</th>\n",
       "      <th>PSR</th>\n",
       "    </tr>\n",
       "  </thead>\n",
       "  <tbody>\n",
       "    <tr>\n",
       "      <th>0</th>\n",
       "      <td>1</td>\n",
       "      <td>1.464640e+06</td>\n",
       "      <td>NaN</td>\n",
       "      <td>NaN</td>\n",
       "      <td>NaN</td>\n",
       "      <td>0.845000</td>\n",
       "    </tr>\n",
       "    <tr>\n",
       "      <th>1</th>\n",
       "      <td>2</td>\n",
       "      <td>1.389250e+06</td>\n",
       "      <td>NaN</td>\n",
       "      <td>NaN</td>\n",
       "      <td>NaN</td>\n",
       "      <td>0.789298</td>\n",
       "    </tr>\n",
       "    <tr>\n",
       "      <th>2</th>\n",
       "      <td>3</td>\n",
       "      <td>1.328440e+06</td>\n",
       "      <td>NaN</td>\n",
       "      <td>NaN</td>\n",
       "      <td>NaN</td>\n",
       "      <td>0.751955</td>\n",
       "    </tr>\n",
       "    <tr>\n",
       "      <th>3</th>\n",
       "      <td>4</td>\n",
       "      <td>1.277930e+06</td>\n",
       "      <td>NaN</td>\n",
       "      <td>NaN</td>\n",
       "      <td>NaN</td>\n",
       "      <td>0.689983</td>\n",
       "    </tr>\n",
       "    <tr>\n",
       "      <th>4</th>\n",
       "      <td>5</td>\n",
       "      <td>1.235700e+06</td>\n",
       "      <td>NaN</td>\n",
       "      <td>NaN</td>\n",
       "      <td>NaN</td>\n",
       "      <td>0.640135</td>\n",
       "    </tr>\n",
       "    <tr>\n",
       "      <th>...</th>\n",
       "      <td>...</td>\n",
       "      <td>...</td>\n",
       "      <td>...</td>\n",
       "      <td>...</td>\n",
       "      <td>...</td>\n",
       "      <td>...</td>\n",
       "    </tr>\n",
       "    <tr>\n",
       "      <th>3396</th>\n",
       "      <td>3397</td>\n",
       "      <td>5.555090e-02</td>\n",
       "      <td>NaN</td>\n",
       "      <td>NaN</td>\n",
       "      <td>NaN</td>\n",
       "      <td>0.250000</td>\n",
       "    </tr>\n",
       "    <tr>\n",
       "      <th>3397</th>\n",
       "      <td>3398</td>\n",
       "      <td>5.555100e-02</td>\n",
       "      <td>NaN</td>\n",
       "      <td>NaN</td>\n",
       "      <td>NaN</td>\n",
       "      <td>0.000000</td>\n",
       "    </tr>\n",
       "    <tr>\n",
       "      <th>3398</th>\n",
       "      <td>3399</td>\n",
       "      <td>5.555100e-02</td>\n",
       "      <td>NaN</td>\n",
       "      <td>NaN</td>\n",
       "      <td>NaN</td>\n",
       "      <td>0.250000</td>\n",
       "    </tr>\n",
       "    <tr>\n",
       "      <th>3399</th>\n",
       "      <td>3400</td>\n",
       "      <td>5.555100e-02</td>\n",
       "      <td>1.0</td>\n",
       "      <td>100.0</td>\n",
       "      <td>0.0</td>\n",
       "      <td>0.250000</td>\n",
       "    </tr>\n",
       "    <tr>\n",
       "      <th>3400</th>\n",
       "      <td>3401</td>\n",
       "      <td>6.346450e-02</td>\n",
       "      <td>NaN</td>\n",
       "      <td>NaN</td>\n",
       "      <td>NaN</td>\n",
       "      <td>0.750000</td>\n",
       "    </tr>\n",
       "  </tbody>\n",
       "</table>\n",
       "<p>3401 rows × 6 columns</p>\n",
       "</div>"
      ],
      "text/plain": [
       "         G            PD   NP    APS  MSR       PSR\n",
       "0        1  1.464640e+06  NaN    NaN  NaN  0.845000\n",
       "1        2  1.389250e+06  NaN    NaN  NaN  0.789298\n",
       "2        3  1.328440e+06  NaN    NaN  NaN  0.751955\n",
       "3        4  1.277930e+06  NaN    NaN  NaN  0.689983\n",
       "4        5  1.235700e+06  NaN    NaN  NaN  0.640135\n",
       "...    ...           ...  ...    ...  ...       ...\n",
       "3396  3397  5.555090e-02  NaN    NaN  NaN  0.250000\n",
       "3397  3398  5.555100e-02  NaN    NaN  NaN  0.000000\n",
       "3398  3399  5.555100e-02  NaN    NaN  NaN  0.250000\n",
       "3399  3400  5.555100e-02  1.0  100.0  0.0  0.250000\n",
       "3400  3401  6.346450e-02  NaN    NaN  NaN  0.750000\n",
       "\n",
       "[3401 rows x 6 columns]"
      ]
     },
     "execution_count": 274,
     "metadata": {},
     "output_type": "execute_result"
    }
   ],
   "source": [
    "df = pd.read_csv(filepath, sep=';')\n",
    "df"
   ]
  },
  {
   "cell_type": "code",
   "execution_count": 169,
   "id": "228a4d5a-1243-455c-98d6-092ce0b00107",
   "metadata": {},
   "outputs": [],
   "source": [
    "df.PD /= df.PD.iloc[0]\n",
    "df.PSR /= df.PSR.iloc[0]"
   ]
  },
  {
   "cell_type": "code",
   "execution_count": 234,
   "id": "2a1e88ea-b511-49ff-bb9a-766a1af8a3ae",
   "metadata": {},
   "outputs": [
    {
     "data": {
      "text/plain": [
       "<matplotlib.legend.Legend at 0x7d92fd82f040>"
      ]
     },
     "execution_count": 234,
     "metadata": {},
     "output_type": "execute_result"
    },
    {
     "data": {
      "image/png": "[encoded data removed]",
      "text/plain": [
       "<Figure size 640x480 with 1 Axes>"
      ]
     },
     "metadata": {},
     "output_type": "display_data"
    }
   ],
   "source": [
    "df.PD.plot(label=\"Population Diversity\")\n",
    "df.PSR.plot(label=\"Success Rate\")\n",
    "plt.legend()"
   ]
  },
  {
   "cell_type": "code",
   "execution_count": 275,
   "id": "b2260826-9e28-48b0-ab87-bb3d28ff7ecd",
   "metadata": {},
   "outputs": [],
   "source": [
    "df = pd.read_csv(filepath, sep=';')\n",
    "m_df = df.dropna()"
   ]
  },
  {
   "cell_type": "code",
   "execution_count": 276,
   "id": "f847f184-ea15-4342-8422-cc4bc1671ac6",
   "metadata": {},
   "outputs": [
    {
     "name": "stderr",
     "output_type": "stream",
     "text": [
      "/tmp/ipykernel_166547/1972038129.py:1: SettingWithCopyWarning: \n",
      "A value is trying to be set on a copy of a slice from a DataFrame.\n",
      "Try using .loc[row_indexer,col_indexer] = value instead\n",
      "\n",
      "See the caveats in the documentation: https://pandas.pydata.org/pandas-docs/stable/user_guide/indexing.html#returning-a-view-versus-a-copy\n",
      "  m_df.MSR *= 100\n"
     ]
    }
   ],
   "source": [
    "m_df.MSR *= 100"
   ]
  },
  {
   "cell_type": "code",
   "execution_count": 277,
   "id": "fcf56a33-9f15-4f0d-ac7c-1625320210d9",
   "metadata": {},
   "outputs": [],
   "source": [
    "df.PSR /= df.PSR.max()\n",
    "df.PSR *= 100\n",
    "\n",
    "df.PD /= df.PD.max()\n",
    "df.PD *= 100"
   ]
  },
  {
   "cell_type": "code",
   "execution_count": 278,
   "id": "b69fdd00-1dcc-4c72-ac51-31a96909f6cf",
   "metadata": {},
   "outputs": [
    {
     "data": {
      "text/plain": [
       "<matplotlib.legend.Legend at 0x7d92fd87e620>"
      ]
     },
     "execution_count": 278,
     "metadata": {},
     "output_type": "execute_result"
    },
    {
     "data": {
      "image/png": "[encoded data removed]",
      "text/plain": [
       "<Figure size 640x480 with 1 Axes>"
      ]
     },
     "metadata": {},
     "output_type": "display_data"
    }
   ],
   "source": [
    "df.PSR.plot(label=\"Population Success Rate\")\n",
    "df.PD.plot(label=\"Population Diversity\")\n",
    "m_df.NP[m_df.NP < 300].plot(label=\"Number of Patterns\")\n",
    "#m_df.APS.plot(label=\"Avg. Pattern Size\")\n",
    "#m_df.MSR.plot()\n",
    "plt.legend()"
   ]
  },
  {
   "cell_type": "code",
   "execution_count": 242,
   "id": "6eb5571b-b009-49d2-9f7e-69806e910e5f",
   "metadata": {},
   "outputs": [
    {
     "name": "stdout",
     "output_type": "stream",
     "text": [
      "MIN | MAX | AVG\n",
      "1.0 | 4132.0 | 34.961\n"
     ]
    }
   ],
   "source": [
    "# Number of Patterns:\n",
    "print(\"MIN | MAX | AVG\")\n",
    "print(f\"{m_df.NP.min()} | {m_df.NP.max()} | {m_df.NP.mean():.5}\")"
   ]
  },
  {
   "cell_type": "code",
   "execution_count": 226,
   "id": "901c1a1e-5639-4dc4-95a7-6466319cda0c",
   "metadata": {},
   "outputs": [
    {
     "name": "stdout",
     "output_type": "stream",
     "text": [
      "MIN | MAX | AVG\n",
      "8.0 | 30.0 | 24.891\n"
     ]
    }
   ],
   "source": [
    "# Size of Patterns:\n",
    "print(\"MIN | MAX | AVG\")\n",
    "print(f\"{m_df.APS.min()} | {m_df.APS.max()} | {m_df.APS.mean():.5}\")"
   ]
  },
  {
   "cell_type": "code",
   "execution_count": 228,
   "id": "2caace89-ef91-4df7-a005-59f5d7328e27",
   "metadata": {},
   "outputs": [
    {
     "name": "stdout",
     "output_type": "stream",
     "text": [
      "MIN | MAX | AVG\n",
      "0.0 | 0.333333 | 0.061412\n"
     ]
    }
   ],
   "source": [
    "# Population Success Rate:\n",
    "print(\"MIN | MAX | AVG\")\n",
    "print(f\"{m_df.PSR.min()} | {m_df.PSR.max()} | {m_df.PSR.mean():.5}\")"
   ]
  },
  {
   "cell_type": "code",
   "execution_count": 229,
   "id": "47d26153-56e1-4c69-a918-498d8925d7f7",
   "metadata": {},
   "outputs": [
    {
     "name": "stdout",
     "output_type": "stream",
     "text": [
      "MIN | MAX | AVG\n",
      "0.0 | 100.0 | 54.545\n"
     ]
    }
   ],
   "source": [
    "# Patterns Success Rate:\n",
    "print(\"MIN | MAX | AVG\")\n",
    "print(f\"{m_df.MSR.min()} | {m_df.MSR.max()} | {m_df.MSR.mean():.5}\")"
   ]
  },
  {
   "cell_type": "code",
   "execution_count": 250,
   "id": "a371d251-34d9-4d9b-92f5-8c5ab225af19",
   "metadata": {},
   "outputs": [
    {
     "data": {
      "text/html": [
       "<div>\n",
       "<style scoped>\n",
       "    .dataframe tbody tr th:only-of-type {\n",
       "        vertical-align: middle;\n",
       "    }\n",
       "\n",
       "    .dataframe tbody tr th {\n",
       "        vertical-align: top;\n",
       "    }\n",
       "\n",
       "    .dataframe thead th {\n",
       "        text-align: right;\n",
       "    }\n",
       "</style>\n",
       "<table border=\"1\" class=\"dataframe\">\n",
       "  <thead>\n",
       "    <tr style=\"text-align: right;\">\n",
       "      <th></th>\n",
       "      <th>G</th>\n",
       "      <th>PD</th>\n",
       "      <th>NP</th>\n",
       "      <th>APS</th>\n",
       "      <th>MSR</th>\n",
       "      <th>PSR</th>\n",
       "    </tr>\n",
       "  </thead>\n",
       "  <tbody>\n",
       "    <tr>\n",
       "      <th>379</th>\n",
       "      <td>380</td>\n",
       "      <td>25.9106</td>\n",
       "      <td>383.0</td>\n",
       "      <td>9.31854</td>\n",
       "      <td>0.0000</td>\n",
       "      <td>0.114411</td>\n",
       "    </tr>\n",
       "    <tr>\n",
       "      <th>399</th>\n",
       "      <td>400</td>\n",
       "      <td>374065.0000</td>\n",
       "      <td>245.0</td>\n",
       "      <td>27.37960</td>\n",
       "      <td>94.6939</td>\n",
       "      <td>0.164196</td>\n",
       "    </tr>\n",
       "    <tr>\n",
       "      <th>439</th>\n",
       "      <td>440</td>\n",
       "      <td>159081.0000</td>\n",
       "      <td>308.0</td>\n",
       "      <td>25.01620</td>\n",
       "      <td>32.7922</td>\n",
       "      <td>0.062500</td>\n",
       "    </tr>\n",
       "    <tr>\n",
       "      <th>479</th>\n",
       "      <td>480</td>\n",
       "      <td>173057.0000</td>\n",
       "      <td>4132.0</td>\n",
       "      <td>8.13408</td>\n",
       "      <td>18.0263</td>\n",
       "      <td>0.000000</td>\n",
       "    </tr>\n",
       "  </tbody>\n",
       "</table>\n",
       "</div>"
      ],
      "text/plain": [
       "       G           PD      NP       APS      MSR       PSR\n",
       "379  380      25.9106   383.0   9.31854   0.0000  0.114411\n",
       "399  400  374065.0000   245.0  27.37960  94.6939  0.164196\n",
       "439  440  159081.0000   308.0  25.01620  32.7922  0.062500\n",
       "479  480  173057.0000  4132.0   8.13408  18.0263  0.000000"
      ]
     },
     "execution_count": 250,
     "metadata": {},
     "output_type": "execute_result"
    }
   ],
   "source": [
    "m_df[m_df.NP >= 180]"
   ]
  },
  {
   "cell_type": "code",
   "execution_count": null,
   "id": "1678db84-69b6-4e32-bd85-4e24891da805",
   "metadata": {},
   "outputs": [],
   "source": [
    "avg cost = 10392.3\n",
    "avg cost = 323.79"
   ]
  }
 ],
 "metadata": {
  "kernelspec": {
   "display_name": "Python 3 (ipykernel)",
   "language": "python",
   "name": "python3"
  },
  "language_info": {
   "codemirror_mode": {
    "name": "ipython",
    "version": 3
   },
   "file_extension": ".py",
   "mimetype": "text/x-python",
   "name": "python",
   "nbconvert_exporter": "python",
   "pygments_lexer": "ipython3",
   "version": "3.10.12"
  }
 },
 "nbformat": 4,
 "nbformat_minor": 5
}
