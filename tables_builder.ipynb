{
 "cells": [
  {
   "cell_type": "code",
   "execution_count": 145,
   "id": "3ed677f5-16c2-4c3b-9983-d45b350ae96e",
   "metadata": {},
   "outputs": [],
   "source": [
    "import matplotlib.pyplot as plt\n",
    "import numpy as np\n",
    "import pandas as pd\n",
    "from scipy.stats import wilcoxon"
   ]
  },
  {
   "cell_type": "code",
   "execution_count": 146,
   "id": "a3089738-9620-4448-922e-29499df259f1",
   "metadata": {},
   "outputs": [],
   "source": [
    "BASE_PATH = \"~/Code/FIM-CGRASP/results/\""
   ]
  },
  {
   "cell_type": "code",
   "execution_count": 193,
   "id": "a5dffcb9-541c-44fa-baf0-34bdbf44c935",
   "metadata": {},
   "outputs": [],
   "source": [
    "def create_xtable(dimension, dm_lshade_config):\n",
    "    lshade_df = pd.read_csv(BASE_PATH + f\"/out(--lshade --sf ).csv\", sep=\";\")\n",
    "    lshade_df = lshade_df[lshade_df.Dim == dimension]\n",
    "    \n",
    "    dm_lshade_df = pd.read_csv(BASE_PATH + f\"uv={dimension}/out(--dmlshade {dm_lshade_config} ).csv\", sep=\";\")\n",
    "\n",
    "    with open(f\"tables/avg_costs_d{dimension}({dm_lshade_config}).csv\", 'w') as tf:\n",
    "        tf.write(\"f;LSHADE;DMLSHADE\\n\")\n",
    "        for f in range(30):\n",
    "            tf.write(f\"{f+1};{list(lshade_df.AvgFO)[f]};{list(dm_lshade_df.AvgFO)[f]}\\n\")\n",
    "\n",
    "def create_xtable_with_stddev(dimension, dm_lshade_config):\n",
    "    try:\n",
    "        lshade_df = pd.read_csv(BASE_PATH + f\"stats_test_data/out(--lshade --sf ).csv\", sep=\";\")\n",
    "        lshade_df = lshade_df[lshade_df.f.str.endswith(\"-\"+str(dimension))]\n",
    "    \n",
    "        dm_lshade_df = pd.read_csv(BASE_PATH + f\"stats_test_data/uv={dimension}/out(--dmlshade {dm_lshade_config} ).csv\", sep=\";\")\n",
    "    except FileNotFoundError:\n",
    "        print(f\"file not found for D={dimension}\")\n",
    "        return\n",
    "    \n",
    "    with open(f\"tables/avg_dev_costs_d{dimension}({dm_lshade_config}).csv\", 'w') as tf:\n",
    "        tf.write(\"f;LSHADE;DMLSHADE\\n\")\n",
    "        for f in range(30):\n",
    "            lshade_mean = np.mean(lshade_df.iloc[f][1:])\n",
    "            lshade_dev = np.std(lshade_df.iloc[f][1:])\n",
    "            \n",
    "            dmlshade_mean = np.mean(dm_lshade_df.iloc[f][1:]) \n",
    "            dmlshade_dev = np.std(dm_lshade_df.iloc[f][1:])\n",
    "\n",
    "            result = f\"{f+1};\"\n",
    "            if lshade_mean < dmlshade_mean:\n",
    "                result += \"-\" + f\"{lshade_mean:.2e} ({lshade_dev:.2e});\"\n",
    "                result += f\"{dmlshade_mean:.2e} ({dmlshade_dev:.2e})\\n\"\n",
    "            elif lshade_mean > dmlshade_mean:\n",
    "                result += f\"{lshade_mean:.2e} ({lshade_dev:.2e});\"\n",
    "                result += \"-\" + f\"{dmlshade_mean:.2e} ({dmlshade_dev:.2e})\\n\" \n",
    "            else:\n",
    "                result = f\"{f+1};{lshade_mean:.2e} ({lshade_dev:.2e});{dmlshade_mean:.2e} ({dmlshade_dev:.2e})\\n\"\n",
    "            \n",
    "            tf.write(result)\n",
    "\n",
    "def bold(text):\n",
    "    return \"\\\\textbf{\" + text + \"}\"\n",
    "\n",
    "def mark(text):\n",
    "    return text + \"*\"\n",
    "\n",
    "def is_different(sample1, sample2):\n",
    "    stat, p = wilcoxon(sample1, sample2, zero_method=\"zsplit\", )\n",
    "    return p <= 0.05\n",
    "\n",
    "def create_xtable_results(dimension, dm_lshade_config):\n",
    "    try:\n",
    "        lshade_df = pd.read_csv(BASE_PATH + f\"stats_test_data/out(--lshade --sf ).csv\", sep=\";\")\n",
    "        lshade_df = lshade_df[lshade_df.f.str.endswith(\"-\"+str(dimension))]\n",
    "\n",
    "        tlshade_df = pd.read_csv(BASE_PATH + \"out(--lshade --sf ).csv\", sep=\";\")\n",
    "        tlshade_df = tlshade_df[tlshade_df.Dim == dimension]\n",
    "    \n",
    "        dm_lshade_df = pd.read_csv(BASE_PATH + f\"stats_test_data/uv={dimension}/out(--dmlshade {dm_lshade_config} ).csv\", sep=\";\")\n",
    "        tdm_lshade_df = pd.read_csv(BASE_PATH + f\"uv={dimension}/out(--dmlshade {dm_lshade_config} ).csv\", sep=\";\")\n",
    "    except FileNotFoundError:\n",
    "        print(f\"file not found for D={dimension}\")\n",
    "        return\n",
    "\n",
    "    count_wins = 0\n",
    "    count_swins = 0\n",
    "    count_bwins = 0\n",
    "    count_twins = 0\n",
    "\n",
    "    count_defeats = 0\n",
    "    count_sdefeats = 0\n",
    "    count_bdefeats = 0\n",
    "    count_tdefeats = 0\n",
    "    \n",
    "    avg_time_gap = 0.0\n",
    "    avg_cost_gap = 0.0\n",
    "    \n",
    "    with open(f\"tables/avg_costs_times_d{dimension}({dm_lshade_config}).csv\", 'w') as tf:\n",
    "        tf.write(\"f;LSHADE;;;;DMLSHADE;;;\\n\")\n",
    "        tf.write(\"f;Best Cost;Avg. Cost;Avg. Time(s);; Best Cost;Avg. Cost;Avg. Time(s); Time Gap\\n\")\n",
    "        for f in range(30):\n",
    "            # statistics:\n",
    "            lshade_best = np.min(lshade_df.iloc[f][1:])\n",
    "            lshade_mean = np.mean(lshade_df.iloc[f][1:])\n",
    "            lshade_dev = np.std(lshade_df.iloc[f][1:])\n",
    "            lshade_time = tlshade_df.Time.iloc[f]\n",
    "            \n",
    "            dm_lshade_best = np.min(dm_lshade_df.iloc[f][1:])\n",
    "            dm_lshade_mean = np.mean(dm_lshade_df.iloc[f][1:]) \n",
    "            dm_lshade_dev = np.std(dm_lshade_df.iloc[f][1:])\n",
    "            dm_lshade_time = tdm_lshade_df.Time.iloc[f]\n",
    "\n",
    "            # gaps:\n",
    "            time_gap = 100 * ((dm_lshade_time - lshade_time) / lshade_time)\n",
    "\n",
    "            if lshade_mean == 0:\n",
    "                cost_gap = 100 * dm_lshade_mean\n",
    "            else:\n",
    "                cost_gap = 100 * (float(dm_lshade_mean - lshade_mean) / float(lshade_mean))\n",
    "\n",
    "            avg_time_gap += time_gap\n",
    "            avg_cost_gap += cost_gap\n",
    "\n",
    "            # count wins: \n",
    "            avg_winner = \"\"\n",
    "            bst_winner = \"\"\n",
    "            tme_winner = \"\"\n",
    "            \n",
    "            better_mean = False\n",
    "            better_min = False\n",
    "            better_time = False\n",
    "            issign = False\n",
    "\n",
    "            if lshade_best > dm_lshade_best:\n",
    "                bst_winner = \"dm\"\n",
    "                count_bwins += 1\n",
    "                better_min = True\n",
    "\n",
    "            if lshade_best < dm_lshade_best:\n",
    "                bst_winner = \"ls\"\n",
    "                count_bdefeats += 1\n",
    "            \n",
    "            if lshade_mean > dm_lshade_mean: \n",
    "                avg_winner = \"dm\"\n",
    "                count_wins += 1\n",
    "                better_mean = True\n",
    "\n",
    "                if is_different(lshade_df.iloc[f][1:], dm_lshade_df.iloc[f][1:]):\n",
    "                    count_swins += 1\n",
    "                    issign = True\n",
    "\n",
    "            if lshade_mean < dm_lshade_mean:\n",
    "                avg_winner = \"ls\"\n",
    "                count_defeats += 1\n",
    "\n",
    "                if is_different(lshade_df.iloc[f][1:], dm_lshade_df.iloc[f][1:]):\n",
    "                    count_sdefeats += 1\n",
    "                    issign = True\n",
    "\n",
    "            if lshade_time > dm_lshade_time:\n",
    "                tme_winner = \"dm\"\n",
    "                count_twins += 1\n",
    "                better_time = True\n",
    "\n",
    "            if lshade_time < dm_lshade_time:\n",
    "                tme_winner = \"ls\"\n",
    "                count_tdefeats += 1\n",
    "                \n",
    "            # build result string:\n",
    "            result =  f\"{f+1};\"\n",
    "\n",
    "            ## lshade best\n",
    "            if bst_winner == \"ls\":\n",
    "                result += bold(f\"{lshade_best:.2e}\")\n",
    "            else:\n",
    "                result += f\"{lshade_best:.2e}\"\n",
    "\n",
    "            result += \";\"\n",
    "\n",
    "            ## lshade mean:\n",
    "            if avg_winner == \"ls\":\n",
    "                result += bold(f\"{lshade_mean:.2e}\")\n",
    "                if issign:\n",
    "                    result += \"*\"\n",
    "            else:\n",
    "                result += f\"{lshade_mean:.2e}\"\n",
    "\n",
    "            result += \";\"\n",
    "\n",
    "            ## lshade time:\n",
    "            if tme_winner == \"ls\":\n",
    "                result += bold(f\"{lshade_time:.4e}\")\n",
    "            else:\n",
    "                result += f\"{lshade_time:.4e}\"\n",
    "\n",
    "            result += \";;\"\n",
    "\n",
    "            ## dm-lshade best\n",
    "            if bst_winner == \"dm\":\n",
    "                result += bold(f\"{dm_lshade_best:.2e}\")\n",
    "            else:\n",
    "                result += f\"{dm_lshade_best:.2e}\"\n",
    "\n",
    "            result += \";\"\n",
    "\n",
    "            ## dm-lshade mean:\n",
    "            if avg_winner == \"dm\":\n",
    "                result += bold(f\"{dm_lshade_mean:.2e}\")\n",
    "                if issign:\n",
    "                    result += \"*\"\n",
    "            else:\n",
    "                result += f\"{dm_lshade_mean:.2e}\"\n",
    "\n",
    "            result += \";\"\n",
    "\n",
    "            ## dm-lshade time:\n",
    "            if tme_winner == \"dm\":\n",
    "                result += bold(f\"{dm_lshade_time:.4e}\")\n",
    "            else:\n",
    "                result += f\"{dm_lshade_time:.4e}\"\n",
    "\n",
    "            result += \";\"\n",
    "            result += f\"{time_gap:.2f}\\n\"\n",
    "            \n",
    "            tf.write(result)\n",
    "\n",
    "    avg_time_gap /= 30\n",
    "    avg_cost_gap /= 30\n",
    "\n",
    "    print(f\"For D={dimension}:\\n\")\n",
    "    print(f\"L-SHADE = # of wins = {count_defeats} ({count_sdefeats}) | # of bests = {count_bdefeats} | # of fasters = {count_tdefeats}\")\n",
    "    print(f\"DM-L-SHADE = # of wins = {count_wins} ({count_swins}) | # of bests = {count_bwins} | # of fasters = {count_twins}\")\n",
    "    print(f\"acg = {avg_cost_gap} | atg = {avg_time_gap}\\n\")"
   ]
  },
  {
   "cell_type": "code",
   "execution_count": 194,
   "id": "539b31e8-1264-47ac-9bc0-425c28f4580e",
   "metadata": {},
   "outputs": [
    {
     "name": "stdout",
     "output_type": "stream",
     "text": [
      "For D=10:\n",
      "\n",
      "L-SHADE = # of wins = 5 (0) | # of bests = 1 | # of fasters = 30\n",
      "DM-L-SHADE = # of wins = 17 (11) | # of bests = 14 | # of fasters = 0\n",
      "acg = 0.28096949317615044 | atg = 14.278408693815532\n",
      "\n",
      "For D=30:\n",
      "\n",
      "L-SHADE = # of wins = 8 (1) | # of bests = 5 | # of fasters = 30\n",
      "DM-L-SHADE = # of wins = 14 (9) | # of bests = 13 | # of fasters = 0\n",
      "acg = -1.0004595155348774 | atg = 5.353554016302288\n",
      "\n",
      "For D=50:\n",
      "\n",
      "L-SHADE = # of wins = 8 (1) | # of bests = 4 | # of fasters = 27\n",
      "DM-L-SHADE = # of wins = 17 (8) | # of bests = 16 | # of fasters = 3\n",
      "acg = -1.9160524405191575 | atg = 10.139273401439114\n",
      "\n",
      "For D=100:\n",
      "\n",
      "L-SHADE = # of wins = 6 (3) | # of bests = 7 | # of fasters = 4\n",
      "DM-L-SHADE = # of wins = 17 (13) | # of bests = 15 | # of fasters = 26\n",
      "acg = 3.2280716867155657 | atg = -10.648985632655256\n",
      "\n"
     ]
    }
   ],
   "source": [
    "for D in [10, 30, 50, 100]:\n",
    "    create_xtable_results(D, \"--crossgen --insert --rand --er 0.1 --cr 0.1498 --gs 168 --sf\")"
   ]
  },
  {
   "cell_type": "code",
   "execution_count": 139,
   "id": "8fe4b297-6c32-4b0e-b1d7-146f705e2d79",
   "metadata": {},
   "outputs": [],
   "source": [
    "for D in [10, 30, 50, 100]:\n",
    "    create_xtable_with_stddev(D, \"--crossgen --insert --rand --er 0.1 --cr 0.1498 --gs 168 --sf\")"
   ]
  },
  {
   "cell_type": "code",
   "execution_count": 76,
   "id": "03ec66e3-e043-4757-a530-de30a4140a3d",
   "metadata": {},
   "outputs": [
    {
     "name": "stdout",
     "output_type": "stream",
     "text": [
      "file not found for D=10\n",
      "file not found for D=50\n",
      "file not found for D=100\n"
     ]
    }
   ],
   "source": [
    "for D in [10, 30, 50, 100]:\n",
    "    create_xtable_with_stddev(D, \"--crossgen --insert --er 0.1 --gs 150 --sf\")"
   ]
  },
  {
   "cell_type": "code",
   "execution_count": 166,
   "id": "80748bc0-da56-47fd-845f-1d058b2598e9",
   "metadata": {},
   "outputs": [
    {
     "name": "stdout",
     "output_type": "stream",
     "text": [
      "file not found for D=100\n"
     ]
    }
   ],
   "source": [
    "for D in [10, 30, 50, 100]:\n",
    "    create_xtable_with_stddev(D, \"--crossgen --insert --er 0.1 --cr 0.1296 --gs 70 --sf --no_archive\")"
   ]
  },
  {
   "cell_type": "code",
   "execution_count": 165,
   "id": "485a1b1b-9b2d-432a-8f6c-235da5509f0c",
   "metadata": {},
   "outputs": [
    {
     "name": "stdout",
     "output_type": "stream",
     "text": [
      "file not found for D=100\n"
     ]
    }
   ],
   "source": [
    "for D in [10, 30, 50, 100]:\n",
    "    create_xtable_with_stddev(D, \"--crossgen --insert --er 0.1 --gs 150 --sf --no_archive\")"
   ]
  },
  {
   "cell_type": "code",
   "execution_count": 113,
   "id": "59c8823e-b09c-4ff0-8f12-b89d5168c415",
   "metadata": {},
   "outputs": [],
   "source": [
    "dimension = 100\n",
    "dm_lshade_config = \"--crossgen --insert --rand --er 0.1 --cr 0.1498 --gs 168 --sf\"\n",
    "dm_lshade_df = pd.read_csv(BASE_PATH + f\"uv={dimension}/out(--dmlshade {dm_lshade_config} ).csv\", sep=\";\")"
   ]
  },
  {
   "cell_type": "code",
   "execution_count": 114,
   "id": "c2ef33f9-c218-4896-9b16-7c36faa4aa43",
   "metadata": {},
   "outputs": [],
   "source": [
    "lshade_df = pd.read_csv(BASE_PATH + \"out(--lshade --sf ).csv\", sep=\";\")\n",
    "lshade_df = lshade_df[lshade_df.Dim == dimension]"
   ]
  },
  {
   "cell_type": "code",
   "execution_count": 115,
   "id": "d9979990-aa60-4a05-bc12-c91f08384340",
   "metadata": {},
   "outputs": [
    {
     "data": {
      "text/plain": [
       "Text(0.5, 1.0, 'Avg. runtime, all functions, D=100')"
      ]
     },
     "execution_count": 115,
     "metadata": {},
     "output_type": "execute_result"
    },
    {
     "data": {
      "image/png": "[encoded data removed]",
      "text/plain": [
       "<Figure size 640x480 with 1 Axes>"
      ]
     },
     "metadata": {},
     "output_type": "display_data"
    }
   ],
   "source": [
    "my_dict = {'LSHADE': lshade_df.Time, 'DM-LSHADE': dm_lshade_df.Time}\n",
    "\n",
    "fig, ax = plt.subplots()\n",
    "ax.boxplot(my_dict.values())\n",
    "ax.set_xticklabels(my_dict.keys())\n",
    "ax.set_ylabel(\"Avg. Time (s)\")\n",
    "ax.set_title(f\"Avg. runtime, all functions, D={dimension}\")"
   ]
  },
  {
   "cell_type": "code",
   "execution_count": 116,
   "id": "26592f0b-5dbe-4a1a-ab5a-d12b653a32a2",
   "metadata": {},
   "outputs": [
    {
     "name": "stdout",
     "output_type": "stream",
     "text": [
      "98.44546999999999\n",
      "91.99303933333336\n"
     ]
    }
   ],
   "source": [
    "print(lshade_df.Time.mean())\n",
    "print(dm_lshade_df.Time.mean())"
   ]
  },
  {
   "cell_type": "code",
   "execution_count": 117,
   "id": "168d899a-1270-463a-bbab-41f35a15a7bb",
   "metadata": {},
   "outputs": [
    {
     "name": "stdout",
     "output_type": "stream",
     "text": [
      "5.8064\n",
      "5.58308\n"
     ]
    }
   ],
   "source": [
    "print(lshade_df.Time.min())\n",
    "print(dm_lshade_df.Time.min())"
   ]
  },
  {
   "cell_type": "code",
   "execution_count": 118,
   "id": "b7044e5a-53b3-4884-80fb-e6ddc3de192b",
   "metadata": {},
   "outputs": [
    {
     "name": "stdout",
     "output_type": "stream",
     "text": [
      "440.881\n",
      "439.317\n"
     ]
    }
   ],
   "source": [
    "print(lshade_df.Time.max())\n",
    "print(dm_lshade_df.Time.max())"
   ]
  },
  {
   "cell_type": "code",
   "execution_count": 119,
   "id": "f8687736-5c8c-424e-a8bb-4ebc76f87490",
   "metadata": {},
   "outputs": [
    {
     "name": "stdout",
     "output_type": "stream",
     "text": [
      "43.817750000000004\n",
      "37.212500000000006\n"
     ]
    }
   ],
   "source": [
    "print(lshade_df.Time.median())\n",
    "print(dm_lshade_df.Time.median())"
   ]
  },
  {
   "cell_type": "code",
   "execution_count": 120,
   "id": "1a727cdd-349c-43b2-827f-a26f5f94633c",
   "metadata": {},
   "outputs": [],
   "source": [
    "time_diff = [(t1, t2, (t2-t1)/t1) for t1, t2 in zip(lshade_df.Time, dm_lshade_df.Time)]"
   ]
  },
  {
   "cell_type": "code",
   "execution_count": 121,
   "id": "0d80dc03-8a2c-468e-a575-c1ee2a473fc6",
   "metadata": {},
   "outputs": [
    {
     "data": {
      "text/plain": [
       "[(40.5017, 35.0938, -0.1335227904013905),\n",
       " (36.0858, 30.5107, -0.15449567419871527),\n",
       " (28.568, 23.696, -0.17054046485578267),\n",
       " (41.7914, 34.7476, -0.16854663878214188),\n",
       " (42.847, 34.2192, -0.201362989240787),\n",
       " (333.676, 303.062, -0.09174768338148377),\n",
       " (18.0555, 17.4195, -0.03522472376838079),\n",
       " (5.8064, 5.58308, -0.03846100854229818),\n",
       " (39.4253, 34.82, -0.11681077886534788),\n",
       " (11.4525, 10.0915, -0.11883868151058725),\n",
       " (48.8689, 40.0182, -0.18111109519551283),\n",
       " (129.559, 106.163, -0.18058181986585264),\n",
       " (40.8022, 32.3856, -0.20627809284793475),\n",
       " (39.7493, 32.8276, -0.17413388411871408),\n",
       " (43.1791, 35.535, -0.17703240688203326),\n",
       " (44.0318, 35.4354, -0.19523162805063604),\n",
       " (44.5877, 37.2473, -0.16462836163336517),\n",
       " (42.3168, 35.1868, -0.16849100120992141),\n",
       " (105.576, 88.6116, -0.16068424641964082),\n",
       " (41.3237, 37.1777, -0.10032983493733622),\n",
       " (43.6037, 39.5953, -0.09192797858897299),\n",
       " (52.5274, 46.2724, -0.11908070835411619),\n",
       " (163.201, 151.273, -0.07308778745228275),\n",
       " (82.9399, 80.2899, -0.0319508463357201),\n",
       " (105.718, 111.197, 0.05182655744527894),\n",
       " (436.895, 439.317, 0.005543666098261655),\n",
       " (440.881, 429.119, -0.026678400747593894),\n",
       " (176.537, 175.58, -0.005420959912086382),\n",
       " (159.593, 161.635, 0.012795047401828411),\n",
       " (113.264, 115.681, 0.021339525356688812)]"
      ]
     },
     "execution_count": 121,
     "metadata": {},
     "output_type": "execute_result"
    }
   ],
   "source": [
    "time_diff "
   ]
  },
  {
   "cell_type": "code",
   "execution_count": 122,
   "id": "adb59cff-9533-419a-85d7-17a7687b560d",
   "metadata": {},
   "outputs": [
    {
     "name": "stdout",
     "output_type": "stream",
     "text": [
      "f;LSHADE;DMLSHADE;delta\n",
      "1;40.5017;35.0938;-0.1335\n",
      "\n",
      "2;36.0858;30.5107;-0.1545\n",
      "\n",
      "3;28.5680;23.6960;-0.1705\n",
      "\n",
      "4;41.7914;34.7476;-0.1685\n",
      "\n",
      "5;42.8470;34.2192;-0.2014\n",
      "\n",
      "6;333.6760;303.0620;-0.0917\n",
      "\n",
      "7;18.0555;17.4195;-0.0352\n",
      "\n",
      "8;5.8064;5.5831;-0.0385\n",
      "\n",
      "9;39.4253;34.8200;-0.1168\n",
      "\n",
      "10;11.4525;10.0915;-0.1188\n",
      "\n",
      "11;48.8689;40.0182;-0.1811\n",
      "\n",
      "12;129.5590;106.1630;-0.1806\n",
      "\n",
      "13;40.8022;32.3856;-0.2063\n",
      "\n",
      "14;39.7493;32.8276;-0.1741\n",
      "\n",
      "15;43.1791;35.5350;-0.1770\n",
      "\n",
      "16;44.0318;35.4354;-0.1952\n",
      "\n",
      "17;44.5877;37.2473;-0.1646\n",
      "\n",
      "18;42.3168;35.1868;-0.1685\n",
      "\n",
      "19;105.5760;88.6116;-0.1607\n",
      "\n",
      "20;41.3237;37.1777;-0.1003\n",
      "\n",
      "21;43.6037;39.5953;-0.0919\n",
      "\n",
      "22;52.5274;46.2724;-0.1191\n",
      "\n",
      "23;163.2010;151.2730;-0.0731\n",
      "\n",
      "24;82.9399;80.2899;-0.0320\n",
      "\n",
      "25;105.7180;111.1970;0.0518\n",
      "\n",
      "26;436.8950;439.3170;0.0055\n",
      "\n",
      "27;440.8810;429.1190;-0.0267\n",
      "\n",
      "28;176.5370;175.5800;-0.0054\n",
      "\n",
      "29;159.5930;161.6350;0.0128\n",
      "\n",
      "30;113.2640;115.6810;0.0213\n",
      "\n",
      "-0.10648985632655256\n"
     ]
    }
   ],
   "source": [
    "avg_gap = 0\n",
    "with open(f\"tables/avg_time_diff_d{dimension}({dm_lshade_config}).csv\", 'a') as tf:\n",
    "    tf.write(\"f;LSHADE;DMLSHADE;delta\\n\")\n",
    "    print(\"f;LSHADE;DMLSHADE;delta\")\n",
    "    f=1 \n",
    "    for (t1, t2, delta) in time_diff:\n",
    "        result = f\"{f};{t1:.4f};{t2:.4f};{delta:.4f}\\n\"\n",
    "        print(result)\n",
    "        tf.write(result)\n",
    "        f+=1\n",
    "        avg_gap += delta\n",
    "\n",
    "avg_gap /= 30\n",
    "print(avg_gap)"
   ]
  },
  {
   "cell_type": "code",
   "execution_count": null,
   "id": "11a65d16-e67c-4fdc-a022-b1427819ebf0",
   "metadata": {},
   "outputs": [],
   "source": [
    "0.14278408693815534\n",
    "0.05353554016302288\n",
    "0.10139273401439117\n",
    "-0.10648985632655256"
   ]
  }
 ],
 "metadata": {
  "kernelspec": {
   "display_name": "Python 3 (ipykernel)",
   "language": "python",
   "name": "python3"
  },
  "language_info": {
   "codemirror_mode": {
    "name": "ipython",
    "version": 3
   },
   "file_extension": ".py",
   "mimetype": "text/x-python",
   "name": "python",
   "nbconvert_exporter": "python",
   "pygments_lexer": "ipython3",
   "version": "3.10.12"
  }
 },
 "nbformat": 4,
 "nbformat_minor": 5
}
