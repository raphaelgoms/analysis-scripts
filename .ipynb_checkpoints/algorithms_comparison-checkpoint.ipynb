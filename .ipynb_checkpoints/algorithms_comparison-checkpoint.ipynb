{
 "cells": [
  {
   "cell_type": "code",
   "execution_count": 4,
   "id": "564828c9-2c36-4868-a21b-df16cfc2c6f1",
   "metadata": {},
   "outputs": [],
   "source": [
    "import matplotlib.pyplot as plt\n",
    "import numpy as np\n",
    "import pandas as pd\n",
    "from scipy.stats import wilcoxon\n",
    "import warnings\n",
    "\n",
    "warnings.filterwarnings('ignore')"
   ]
  },
  {
   "cell_type": "code",
   "execution_count": 5,
   "id": "23c07771-9a62-4bf8-9435-2f3c4c9bfdda",
   "metadata": {},
   "outputs": [],
   "source": [
    "BASE_PATH = \"~/Code/FIM-CGRASP (2022)/results/\""
   ]
  },
  {
   "cell_type": "code",
   "execution_count": 6,
   "id": "cc6ae5a0-33fc-4fea-b546-b968602e4378",
   "metadata": {},
   "outputs": [],
   "source": [
    "def _compare(ref_df, tgt_df):\n",
    "    wins, swins = 0, 0 \n",
    "    defeats, sdefeats = 0, 0\n",
    "\n",
    "    for i in range(len(tgt_df)):\n",
    "        data1 = ref_df.iloc[i][1:]\n",
    "        data2 = tgt_df.iloc[i][1:]\n",
    "        \n",
    "        d1_mean = np.mean(data1)\n",
    "        d2_mean = np.mean(data2) \n",
    "\n",
    "        #print(d1_mean, d2_mean)\n",
    "    \n",
    "        is_signif = False\n",
    "        if d1_mean == 0.0 and d2_mean == 0.0:\n",
    "            is_signif = False\n",
    "        else:\n",
    "            stat, p = wilcoxon(data1, data2, zero_method=\"zsplit\", )\n",
    "            if p <= 0.05:\n",
    "                is_signif = True\n",
    "        \n",
    "        if d1_mean > d2_mean:\n",
    "            wins += 1\n",
    "            if is_signif:\n",
    "                swins += 1\n",
    "    \n",
    "        elif d1_mean < d2_mean:\n",
    "            defeats += 1\n",
    "            if is_signif:\n",
    "                sdefeats += 1\n",
    "\n",
    "    return [wins, swins], [defeats, sdefeats]\n",
    "    \n",
    "def print_comparison(dimension, dm_lshade_config):\n",
    "    try:\n",
    "        lshade_df = pd.read_csv(BASE_PATH + f\"stats_test_data/out(--lshade ).csv\", sep=\";\")\n",
    "        lshade_df = lshade_df[lshade_df.f.str.endswith(\"-\"+str(dimension))]\n",
    "        dm_lshade_df = pd.read_csv(BASE_PATH + f\"stats_test_data/uv={dimension}/out(--dmlshade {dm_lshade_config} ).csv\", sep=\";\")\n",
    "    except FileNotFoundError:\n",
    "        print(f\"file not found for D={dimension}\")\n",
    "        return\n",
    "\n",
    "    wins, defeats = _compare(lshade_df, dm_lshade_df)\n",
    "\n",
    "    print(f\"\\n{dm_lshade_config}:\")\n",
    "    print(\" ----------------\")\n",
    "    print(\"| WINS | DEFEATS |\")\n",
    "    print(f\"| {wins[0]}({wins[1]}) | {defeats[0]}({defeats[1]})    |\")\n",
    "    print(\" ----------------\")"
   ]
  },
  {
   "cell_type": "code",
   "execution_count": 7,
   "id": "d3bb3e32-4feb-441a-a359-5868940b6819",
   "metadata": {},
   "outputs": [],
   "source": [
    "D=10\n",
    "configs = [\"--crossgen --insert --er 0.1 --cr 0.1296 --gs 70\",\n",
    "          \"--crossgen --insert --er 0.1 --cr 0.1296 --gs 70 --no_archive\",\n",
    "          \"--crossgen --insert --er 0.1 --gs 150\",\n",
    "           \"--crossgen --insert --er 0.1 --gs 150 --no_archive\",\n",
    "           \"--crossgen --insert --er 0.1 --cr 0.23 --gs 150\",\n",
    "           \"--crossgen --insert --er 0.1 --cr 0.23 --gs 150 --no_archive\",\n",
    "           \"--crossgen --insert --er 0.2 --gs 50 --no_archive\"]"
   ]
  },
  {
   "cell_type": "code",
   "execution_count": 8,
   "id": "7ea73d51-c986-45a0-9dd0-85c9c9c00440",
   "metadata": {},
   "outputs": [
    {
     "name": "stdout",
     "output_type": "stream",
     "text": [
      "\n",
      "--crossgen --insert --er 0.1 --cr 0.1296 --gs 70:\n",
      " ----------------\n",
      "| WINS | DEFEATS |\n",
      "| 5(1) | 1(0)    |\n",
      " ----------------\n",
      "\n",
      "--crossgen --insert --er 0.1 --cr 0.1296 --gs 70 --no_archive:\n",
      " ----------------\n",
      "| WINS | DEFEATS |\n",
      "| 5(3) | 2(1)    |\n",
      " ----------------\n",
      "\n",
      "--crossgen --insert --er 0.1 --gs 150:\n",
      " ----------------\n",
      "| WINS | DEFEATS |\n",
      "| 4(0) | 1(0)    |\n",
      " ----------------\n",
      "\n",
      "--crossgen --insert --er 0.1 --gs 150 --no_archive:\n",
      " ----------------\n",
      "| WINS | DEFEATS |\n",
      "| 4(3) | 3(1)    |\n",
      " ----------------\n",
      "\n",
      "--crossgen --insert --er 0.1 --cr 0.23 --gs 150:\n",
      " ----------------\n",
      "| WINS | DEFEATS |\n",
      "| 4(2) | 2(1)    |\n",
      " ----------------\n",
      "\n",
      "--crossgen --insert --er 0.1 --cr 0.23 --gs 150 --no_archive:\n",
      " ----------------\n",
      "| WINS | DEFEATS |\n",
      "| 5(2) | 2(1)    |\n",
      " ----------------\n",
      "\n",
      "--crossgen --insert --er 0.2 --gs 50 --no_archive:\n",
      " ----------------\n",
      "| WINS | DEFEATS |\n",
      "| 4(3) | 3(1)    |\n",
      " ----------------\n"
     ]
    }
   ],
   "source": [
    "for c in configs:\n",
    "    print_comparison(D, c)"
   ]
  },
  {
   "cell_type": "code",
   "execution_count": 9,
   "id": "66815422-3689-48de-9886-0a69d35d2173",
   "metadata": {},
   "outputs": [
    {
     "name": "stdout",
     "output_type": "stream",
     "text": [
      "\n",
      "--crossgen --insert --er 0.1 --cr 0.1296 --gs 70:\n",
      " ----------------\n",
      "| WINS | DEFEATS |\n",
      "| 4(1) | 2(0)    |\n",
      " ----------------\n",
      "\n",
      "--crossgen --insert --er 0.1 --cr 0.1296 --gs 70 --no_archive:\n",
      " ----------------\n",
      "| WINS | DEFEATS |\n",
      "| 6(2) | 2(1)    |\n",
      " ----------------\n",
      "\n",
      "--crossgen --insert --er 0.1 --gs 150:\n",
      " ----------------\n",
      "| WINS | DEFEATS |\n",
      "| 4(1) | 2(0)    |\n",
      " ----------------\n",
      "\n",
      "--crossgen --insert --er 0.1 --gs 150 --no_archive:\n",
      " ----------------\n",
      "| WINS | DEFEATS |\n",
      "| 6(3) | 2(1)    |\n",
      " ----------------\n",
      "\n",
      "--crossgen --insert --er 0.1 --cr 0.23 --gs 150:\n",
      " ----------------\n",
      "| WINS | DEFEATS |\n",
      "| 3(2) | 2(0)    |\n",
      " ----------------\n",
      "\n",
      "--crossgen --insert --er 0.1 --cr 0.23 --gs 150 --no_archive:\n",
      " ----------------\n",
      "| WINS | DEFEATS |\n",
      "| 5(3) | 3(1)    |\n",
      " ----------------\n",
      "\n",
      "--crossgen --insert --er 0.2 --gs 50 --no_archive:\n",
      " ----------------\n",
      "| WINS | DEFEATS |\n",
      "| 5(3) | 3(1)    |\n",
      " ----------------\n"
     ]
    }
   ],
   "source": [
    "D=20\n",
    "for c in configs:\n",
    "    print_comparison(D, c)"
   ]
  },
  {
   "cell_type": "code",
   "execution_count": null,
   "id": "6d724e42-4ee5-4fdf-a5a0-3a1531f1f4d7",
   "metadata": {},
   "outputs": [],
   "source": []
  }
 ],
 "metadata": {
  "kernelspec": {
   "display_name": "Python 3 (ipykernel)",
   "language": "python",
   "name": "python3"
  },
  "language_info": {
   "codemirror_mode": {
    "name": "ipython",
    "version": 3
   },
   "file_extension": ".py",
   "mimetype": "text/x-python",
   "name": "python",
   "nbconvert_exporter": "python",
   "pygments_lexer": "ipython3",
   "version": "3.10.12"
  }
 },
 "nbformat": 4,
 "nbformat_minor": 5
}
