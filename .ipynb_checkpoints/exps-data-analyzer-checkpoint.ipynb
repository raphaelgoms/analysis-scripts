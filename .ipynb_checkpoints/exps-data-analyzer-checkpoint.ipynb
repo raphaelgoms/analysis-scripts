{
 "cells": [
  {
   "cell_type": "code",
   "execution_count": 41,
   "id": "7ccc886a-0932-40ea-b185-e53923f7ab31",
   "metadata": {},
   "outputs": [],
   "source": [
    "import numpy as np\n",
    "import pandas as pd\n",
    "from scipy.stats import wilcoxon\n",
    "\n",
    "import warnings\n",
    "warnings.filterwarnings('ignore')"
   ]
  },
  {
   "cell_type": "code",
   "execution_count": 37,
   "id": "e28ce5bf-2f25-4db8-b21b-af357ef98ece",
   "metadata": {},
   "outputs": [],
   "source": [
    "class AlgorithmComparisonData():\n",
    "    def __init__(self, wins, significant_wins, defeats, significant_defeats):\n",
    "        self.wins = wins\n",
    "        self.significant_wins = significant_wins\n",
    "        self.defeats = defeats\n",
    "        self.significant_defeats = significant_defeats\n",
    "\n",
    "    def __str__(self):\n",
    "        return f\"wins: {self.wins}({self.significant_wins})\\ndefeats: {self.defeats}({self.significant_defeats})\"\n",
    "\n",
    "class ExperimentsDataAnalyzer():\n",
    "\n",
    "    def __init__(self):\n",
    "        self.data_lake = {}\n",
    "\n",
    "    def load_data(self, data_source_name, data_source_path):\n",
    "        df = pd.read_csv(data_source_path, sep=';')\n",
    "        self.data_lake[data_source_name] = df\n",
    "\n",
    "    def get_data_frame(self, data_source_name):\n",
    "        return self.data_lake[data_source_name]\n",
    "\n",
    "    def compare(self, ref_alg_datasource_name, target_alg_datasource_name):\n",
    "        ref_df = self.get_data_frame(ref_alg_datasource_name)\n",
    "        tgt_df = self.get_data_frame(target_alg_datasource_name)\n",
    "        \n",
    "        wins, swins = 0, 0 \n",
    "        defeats, sdefeats = 0, 0\n",
    "    \n",
    "        for i in range(len(tgt_df)):\n",
    "            data1 = ref_df.iloc[i][1:]\n",
    "            data2 = tgt_df.iloc[i][1:]\n",
    "            \n",
    "            d1_mean = np.mean(data1)\n",
    "            d2_mean = np.mean(data2) \n",
    "        \n",
    "            is_signif = False\n",
    "            if d1_mean == 0.0 and d2_mean == 0.0:\n",
    "                is_signif = False\n",
    "            else:\n",
    "                stat, p = wilcoxon(data1, data2, zero_method=\"zsplit\", )\n",
    "                if p <= 0.05:\n",
    "                    is_signif = True\n",
    "            \n",
    "            if d1_mean > d2_mean:\n",
    "                wins += 1\n",
    "                if is_signif:\n",
    "                    swins += 1\n",
    "        \n",
    "            elif d1_mean < d2_mean:\n",
    "                defeats += 1\n",
    "                if is_signif:\n",
    "                    sdefeats += 1\n",
    "\n",
    "        return AlgorithmComparisonData(wins, swins, defeats, sdefeats)"
   ]
  },
  {
   "cell_type": "code",
   "execution_count": 55,
   "id": "5b3128f6-1ad1-411e-bbc8-0a45069bb321",
   "metadata": {},
   "outputs": [],
   "source": [
    "analyzer = ExperimentsDataAnalyzer()\n",
    "\n",
    "base_path = \"~/code/FIM-CGRASP/results/stats_test_data\"\n",
    "\n",
    "alg_ref_ds_name = \"lshade_costs_by_seed\"\n",
    "alg_ref_path = f\"{base_path}/out(--lshade ).csv\"\n",
    "\n",
    "alg_target_ds_name = \"dmlshade_costs_by_seed\"\n",
    "alg_target_path = f\"{base_path}/uv=10/out(--dmlshade --crossgen --insert --k 36 --elsz 47 --dms 26 ).csv\"\n",
    "\n",
    "analyzer.load_data(alg_ref_ds_name, alg_ref_path)\n",
    "analyzer.load_data(alg_target_ds_name, alg_target_path)"
   ]
  },
  {
   "cell_type": "code",
   "execution_count": 56,
   "id": "90626ec6-2dfc-4a8a-9d5d-424043bd56fa",
   "metadata": {},
   "outputs": [
    {
     "name": "stdout",
     "output_type": "stream",
     "text": [
      "wins: 12(8)\n",
      "defeats: 12(2)\n"
     ]
    }
   ],
   "source": [
    "results = analyzer.compare(alg_ref_ds_name, alg_target_ds_name)\n",
    "print(results)"
   ]
  },
  {
   "cell_type": "code",
   "execution_count": null,
   "id": "f19259d4-914b-4c73-b857-d65dcd28d0b5",
   "metadata": {},
   "outputs": [],
   "source": []
  }
 ],
 "metadata": {
  "kernelspec": {
   "display_name": "Python 3 (ipykernel)",
   "language": "python",
   "name": "python3"
  },
  "language_info": {
   "codemirror_mode": {
    "name": "ipython",
    "version": 3
   },
   "file_extension": ".py",
   "mimetype": "text/x-python",
   "name": "python",
   "nbconvert_exporter": "python",
   "pygments_lexer": "ipython3",
   "version": "3.10.12"
  }
 },
 "nbformat": 4,
 "nbformat_minor": 5
}
